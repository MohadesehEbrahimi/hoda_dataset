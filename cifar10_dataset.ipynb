{
  "nbformat": 4,
  "nbformat_minor": 0,
  "metadata": {
    "colab": {
      "provenance": [],
      "gpuType": "T4"
    },
    "kernelspec": {
      "name": "python3",
      "display_name": "Python 3"
    },
    "language_info": {
      "name": "python"
    },
    "accelerator": "GPU"
  },
  "cells": [
    {
      "cell_type": "code",
      "execution_count": null,
      "metadata": {
        "id": "SmgqkOxWYiBX"
      },
      "outputs": [],
      "source": [
        "import numpy as np\n",
        "import matplotlib.pyplot as plt\n",
        "import tensorflow\n",
        "from tensorflow import keras\n",
        "from keras.models import Sequential\n",
        "from keras.layers import  Dense, Flatten, Conv2D, MaxPooling2D,Dropout\n",
        "from keras.datasets import cifar10"
      ]
    },
    {
      "cell_type": "code",
      "source": [
        "(x_train,y_train),(x_test,y_test)= cifar10.load_data()"
      ],
      "metadata": {
        "colab": {
          "base_uri": "https://localhost:8080/"
        },
        "id": "YFd-xi_4ZXlQ",
        "outputId": "3f037eb0-49d5-4ddf-ab02-57dee3c80ba9"
      },
      "execution_count": null,
      "outputs": [
        {
          "output_type": "stream",
          "name": "stdout",
          "text": [
            "Downloading data from https://www.cs.toronto.edu/~kriz/cifar-10-python.tar.gz\n",
            "\u001b[1m170498071/170498071\u001b[0m \u001b[32m━━━━━━━━━━━━━━━━━━━━\u001b[0m\u001b[37m\u001b[0m \u001b[1m4s\u001b[0m 0us/step\n"
          ]
        }
      ]
    },
    {
      "cell_type": "code",
      "source": [
        "x_train= x_train.astype('float32')/255\n",
        "x_test= x_test.astype('float32')/255"
      ],
      "metadata": {
        "id": "lWT1ujgYZydZ"
      },
      "execution_count": null,
      "outputs": []
    },
    {
      "cell_type": "code",
      "source": [
        "x_train.shape"
      ],
      "metadata": {
        "colab": {
          "base_uri": "https://localhost:8080/"
        },
        "id": "iPsum2QiapEA",
        "outputId": "634ad8db-72b5-496a-91ca-9725eb3da8d6"
      },
      "execution_count": null,
      "outputs": [
        {
          "output_type": "execute_result",
          "data": {
            "text/plain": [
              "(50000, 32, 32, 3)"
            ]
          },
          "metadata": {},
          "execution_count": 5
        }
      ]
    },
    {
      "cell_type": "code",
      "source": [
        "def create_model():\n",
        "    model= Sequential()\n",
        "    model.add(Conv2D(32,(3,3), activation='relu', input_shape=(32,32,3)))\n",
        "    model.add(MaxPooling2D(2,2))\n",
        "    model.add(Conv2D(32,(3,3), activation='relu'))\n",
        "    model.add(MaxPooling2D(2,2))\n",
        "    model.add(Conv2D(64,(3,3), activation='relu'))\n",
        "    model.add(MaxPooling2D(2,2))\n",
        "    model.add(Flatten())\n",
        "    model.add(Dense(64, activation='relu'))\n",
        "    model.add(Dropout(0.5))\n",
        "    model.add(Dense(10, activation='softmax'))\n",
        "    return model"
      ],
      "metadata": {
        "id": "ABRiChpsaZOR"
      },
      "execution_count": null,
      "outputs": []
    },
    {
      "cell_type": "code",
      "source": [
        "model=create_model()"
      ],
      "metadata": {
        "colab": {
          "base_uri": "https://localhost:8080/"
        },
        "id": "7b24kbCIc2FV",
        "outputId": "c662d1cc-634b-4934-9378-240bf5bfec07"
      },
      "execution_count": null,
      "outputs": [
        {
          "output_type": "stream",
          "name": "stderr",
          "text": [
            "/usr/local/lib/python3.11/dist-packages/keras/src/layers/convolutional/base_conv.py:107: UserWarning: Do not pass an `input_shape`/`input_dim` argument to a layer. When using Sequential models, prefer using an `Input(shape)` object as the first layer in the model instead.\n",
            "  super().__init__(activity_regularizer=activity_regularizer, **kwargs)\n"
          ]
        }
      ]
    },
    {
      "cell_type": "code",
      "source": [
        "model.compile(loss='sparse_categorical_crossentropy', optimizer= 'adam', metrics=['accuracy'])"
      ],
      "metadata": {
        "id": "iS6URL2ucfwG"
      },
      "execution_count": null,
      "outputs": []
    },
    {
      "cell_type": "code",
      "source": [
        "history= model.fit(x_train, y_train,validation_data=(x_test,y_test), epochs=100, batch_size=38)"
      ],
      "metadata": {
        "colab": {
          "base_uri": "https://localhost:8080/"
        },
        "id": "P0ufb1xucx-F",
        "outputId": "6ce6a3df-3b18-4ab7-92e0-c37d3e3e7961"
      },
      "execution_count": null,
      "outputs": [
        {
          "output_type": "stream",
          "name": "stdout",
          "text": [
            "Epoch 1/100\n",
            "\u001b[1m1316/1316\u001b[0m \u001b[32m━━━━━━━━━━━━━━━━━━━━\u001b[0m\u001b[37m\u001b[0m \u001b[1m13s\u001b[0m 6ms/step - accuracy: 0.2618 - loss: 1.9598 - val_accuracy: 0.4982 - val_loss: 1.4087\n",
            "Epoch 2/100\n",
            "\u001b[1m1316/1316\u001b[0m \u001b[32m━━━━━━━━━━━━━━━━━━━━\u001b[0m\u001b[37m\u001b[0m \u001b[1m14s\u001b[0m 4ms/step - accuracy: 0.4551 - loss: 1.4926 - val_accuracy: 0.5117 - val_loss: 1.3697\n",
            "Epoch 3/100\n",
            "\u001b[1m1316/1316\u001b[0m \u001b[32m━━━━━━━━━━━━━━━━━━━━\u001b[0m\u001b[37m\u001b[0m \u001b[1m5s\u001b[0m 4ms/step - accuracy: 0.5193 - loss: 1.3454 - val_accuracy: 0.5667 - val_loss: 1.2024\n",
            "Epoch 4/100\n",
            "\u001b[1m1316/1316\u001b[0m \u001b[32m━━━━━━━━━━━━━━━━━━━━\u001b[0m\u001b[37m\u001b[0m \u001b[1m6s\u001b[0m 4ms/step - accuracy: 0.5553 - loss: 1.2608 - val_accuracy: 0.6015 - val_loss: 1.1214\n",
            "Epoch 5/100\n",
            "\u001b[1m1316/1316\u001b[0m \u001b[32m━━━━━━━━━━━━━━━━━━━━\u001b[0m\u001b[37m\u001b[0m \u001b[1m5s\u001b[0m 4ms/step - accuracy: 0.5861 - loss: 1.1763 - val_accuracy: 0.6245 - val_loss: 1.0464\n",
            "Epoch 6/100\n",
            "\u001b[1m1316/1316\u001b[0m \u001b[32m━━━━━━━━━━━━━━━━━━━━\u001b[0m\u001b[37m\u001b[0m \u001b[1m5s\u001b[0m 4ms/step - accuracy: 0.6034 - loss: 1.1249 - val_accuracy: 0.6343 - val_loss: 1.0355\n",
            "Epoch 7/100\n",
            "\u001b[1m1316/1316\u001b[0m \u001b[32m━━━━━━━━━━━━━━━━━━━━\u001b[0m\u001b[37m\u001b[0m \u001b[1m10s\u001b[0m 4ms/step - accuracy: 0.6220 - loss: 1.0758 - val_accuracy: 0.6447 - val_loss: 1.0289\n",
            "Epoch 8/100\n",
            "\u001b[1m1316/1316\u001b[0m \u001b[32m━━━━━━━━━━━━━━━━━━━━\u001b[0m\u001b[37m\u001b[0m \u001b[1m10s\u001b[0m 4ms/step - accuracy: 0.6380 - loss: 1.0462 - val_accuracy: 0.6403 - val_loss: 1.0275\n",
            "Epoch 9/100\n",
            "\u001b[1m1316/1316\u001b[0m \u001b[32m━━━━━━━━━━━━━━━━━━━━\u001b[0m\u001b[37m\u001b[0m \u001b[1m5s\u001b[0m 4ms/step - accuracy: 0.6459 - loss: 1.0145 - val_accuracy: 0.6606 - val_loss: 0.9670\n",
            "Epoch 10/100\n",
            "\u001b[1m1316/1316\u001b[0m \u001b[32m━━━━━━━━━━━━━━━━━━━━\u001b[0m\u001b[37m\u001b[0m \u001b[1m5s\u001b[0m 4ms/step - accuracy: 0.6560 - loss: 0.9860 - val_accuracy: 0.6754 - val_loss: 0.9326\n",
            "Epoch 11/100\n",
            "\u001b[1m1316/1316\u001b[0m \u001b[32m━━━━━━━━━━━━━━━━━━━━\u001b[0m\u001b[37m\u001b[0m \u001b[1m5s\u001b[0m 4ms/step - accuracy: 0.6656 - loss: 0.9585 - val_accuracy: 0.6693 - val_loss: 0.9592\n",
            "Epoch 12/100\n",
            "\u001b[1m1316/1316\u001b[0m \u001b[32m━━━━━━━━━━━━━━━━━━━━\u001b[0m\u001b[37m\u001b[0m \u001b[1m10s\u001b[0m 4ms/step - accuracy: 0.6705 - loss: 0.9405 - val_accuracy: 0.6741 - val_loss: 0.9379\n",
            "Epoch 13/100\n",
            "\u001b[1m1316/1316\u001b[0m \u001b[32m━━━━━━━━━━━━━━━━━━━━\u001b[0m\u001b[37m\u001b[0m \u001b[1m5s\u001b[0m 4ms/step - accuracy: 0.6767 - loss: 0.9237 - val_accuracy: 0.6812 - val_loss: 0.9076\n",
            "Epoch 14/100\n",
            "\u001b[1m1316/1316\u001b[0m \u001b[32m━━━━━━━━━━━━━━━━━━━━\u001b[0m\u001b[37m\u001b[0m \u001b[1m5s\u001b[0m 4ms/step - accuracy: 0.6861 - loss: 0.8954 - val_accuracy: 0.6803 - val_loss: 0.9120\n",
            "Epoch 15/100\n",
            "\u001b[1m1316/1316\u001b[0m \u001b[32m━━━━━━━━━━━━━━━━━━━━\u001b[0m\u001b[37m\u001b[0m \u001b[1m5s\u001b[0m 4ms/step - accuracy: 0.6902 - loss: 0.8926 - val_accuracy: 0.6824 - val_loss: 0.9188\n",
            "Epoch 16/100\n",
            "\u001b[1m1316/1316\u001b[0m \u001b[32m━━━━━━━━━━━━━━━━━━━━\u001b[0m\u001b[37m\u001b[0m \u001b[1m10s\u001b[0m 4ms/step - accuracy: 0.6967 - loss: 0.8589 - val_accuracy: 0.6863 - val_loss: 0.9015\n",
            "Epoch 17/100\n",
            "\u001b[1m1316/1316\u001b[0m \u001b[32m━━━━━━━━━━━━━━━━━━━━\u001b[0m\u001b[37m\u001b[0m \u001b[1m5s\u001b[0m 4ms/step - accuracy: 0.7052 - loss: 0.8490 - val_accuracy: 0.6863 - val_loss: 0.9162\n",
            "Epoch 18/100\n",
            "\u001b[1m1316/1316\u001b[0m \u001b[32m━━━━━━━━━━━━━━━━━━━━\u001b[0m\u001b[37m\u001b[0m \u001b[1m6s\u001b[0m 4ms/step - accuracy: 0.7107 - loss: 0.8272 - val_accuracy: 0.6809 - val_loss: 0.9159\n",
            "Epoch 19/100\n",
            "\u001b[1m1316/1316\u001b[0m \u001b[32m━━━━━━━━━━━━━━━━━━━━\u001b[0m\u001b[37m\u001b[0m \u001b[1m10s\u001b[0m 4ms/step - accuracy: 0.7096 - loss: 0.8338 - val_accuracy: 0.6812 - val_loss: 0.9249\n",
            "Epoch 20/100\n",
            "\u001b[1m1316/1316\u001b[0m \u001b[32m━━━━━━━━━━━━━━━━━━━━\u001b[0m\u001b[37m\u001b[0m \u001b[1m10s\u001b[0m 4ms/step - accuracy: 0.7119 - loss: 0.8186 - val_accuracy: 0.6823 - val_loss: 0.9047\n",
            "Epoch 21/100\n",
            "\u001b[1m1316/1316\u001b[0m \u001b[32m━━━━━━━━━━━━━━━━━━━━\u001b[0m\u001b[37m\u001b[0m \u001b[1m6s\u001b[0m 4ms/step - accuracy: 0.7176 - loss: 0.8055 - val_accuracy: 0.6952 - val_loss: 0.8880\n",
            "Epoch 22/100\n",
            "\u001b[1m1316/1316\u001b[0m \u001b[32m━━━━━━━━━━━━━━━━━━━━\u001b[0m\u001b[37m\u001b[0m \u001b[1m5s\u001b[0m 4ms/step - accuracy: 0.7203 - loss: 0.7993 - val_accuracy: 0.6979 - val_loss: 0.8881\n",
            "Epoch 23/100\n",
            "\u001b[1m1316/1316\u001b[0m \u001b[32m━━━━━━━━━━━━━━━━━━━━\u001b[0m\u001b[37m\u001b[0m \u001b[1m5s\u001b[0m 4ms/step - accuracy: 0.7292 - loss: 0.7802 - val_accuracy: 0.7024 - val_loss: 0.8782\n",
            "Epoch 24/100\n",
            "\u001b[1m1316/1316\u001b[0m \u001b[32m━━━━━━━━━━━━━━━━━━━━\u001b[0m\u001b[37m\u001b[0m \u001b[1m5s\u001b[0m 4ms/step - accuracy: 0.7277 - loss: 0.7748 - val_accuracy: 0.6981 - val_loss: 0.8873\n",
            "Epoch 25/100\n",
            "\u001b[1m1316/1316\u001b[0m \u001b[32m━━━━━━━━━━━━━━━━━━━━\u001b[0m\u001b[37m\u001b[0m \u001b[1m6s\u001b[0m 4ms/step - accuracy: 0.7296 - loss: 0.7651 - val_accuracy: 0.6951 - val_loss: 0.8950\n",
            "Epoch 26/100\n",
            "\u001b[1m1316/1316\u001b[0m \u001b[32m━━━━━━━━━━━━━━━━━━━━\u001b[0m\u001b[37m\u001b[0m \u001b[1m10s\u001b[0m 4ms/step - accuracy: 0.7340 - loss: 0.7510 - val_accuracy: 0.7095 - val_loss: 0.8714\n",
            "Epoch 27/100\n",
            "\u001b[1m1316/1316\u001b[0m \u001b[32m━━━━━━━━━━━━━━━━━━━━\u001b[0m\u001b[37m\u001b[0m \u001b[1m6s\u001b[0m 4ms/step - accuracy: 0.7403 - loss: 0.7443 - val_accuracy: 0.6918 - val_loss: 0.9148\n",
            "Epoch 28/100\n",
            "\u001b[1m1316/1316\u001b[0m \u001b[32m━━━━━━━━━━━━━━━━━━━━\u001b[0m\u001b[37m\u001b[0m \u001b[1m5s\u001b[0m 4ms/step - accuracy: 0.7339 - loss: 0.7569 - val_accuracy: 0.6968 - val_loss: 0.8988\n",
            "Epoch 29/100\n",
            "\u001b[1m1316/1316\u001b[0m \u001b[32m━━━━━━━━━━━━━━━━━━━━\u001b[0m\u001b[37m\u001b[0m \u001b[1m5s\u001b[0m 4ms/step - accuracy: 0.7416 - loss: 0.7377 - val_accuracy: 0.6889 - val_loss: 0.9262\n",
            "Epoch 30/100\n",
            "\u001b[1m1316/1316\u001b[0m \u001b[32m━━━━━━━━━━━━━━━━━━━━\u001b[0m\u001b[37m\u001b[0m \u001b[1m5s\u001b[0m 4ms/step - accuracy: 0.7394 - loss: 0.7313 - val_accuracy: 0.6978 - val_loss: 0.8955\n",
            "Epoch 31/100\n",
            "\u001b[1m1316/1316\u001b[0m \u001b[32m━━━━━━━━━━━━━━━━━━━━\u001b[0m\u001b[37m\u001b[0m \u001b[1m5s\u001b[0m 4ms/step - accuracy: 0.7474 - loss: 0.7155 - val_accuracy: 0.7042 - val_loss: 0.9069\n",
            "Epoch 32/100\n",
            "\u001b[1m1316/1316\u001b[0m \u001b[32m━━━━━━━━━━━━━━━━━━━━\u001b[0m\u001b[37m\u001b[0m \u001b[1m5s\u001b[0m 4ms/step - accuracy: 0.7482 - loss: 0.7134 - val_accuracy: 0.7106 - val_loss: 0.8728\n",
            "Epoch 33/100\n",
            "\u001b[1m1316/1316\u001b[0m \u001b[32m━━━━━━━━━━━━━━━━━━━━\u001b[0m\u001b[37m\u001b[0m \u001b[1m5s\u001b[0m 4ms/step - accuracy: 0.7454 - loss: 0.7167 - val_accuracy: 0.7094 - val_loss: 0.8905\n",
            "Epoch 34/100\n",
            "\u001b[1m1316/1316\u001b[0m \u001b[32m━━━━━━━━━━━━━━━━━━━━\u001b[0m\u001b[37m\u001b[0m \u001b[1m5s\u001b[0m 4ms/step - accuracy: 0.7501 - loss: 0.7088 - val_accuracy: 0.7050 - val_loss: 0.8829\n",
            "Epoch 35/100\n",
            "\u001b[1m1316/1316\u001b[0m \u001b[32m━━━━━━━━━━━━━━━━━━━━\u001b[0m\u001b[37m\u001b[0m \u001b[1m5s\u001b[0m 4ms/step - accuracy: 0.7517 - loss: 0.7092 - val_accuracy: 0.7084 - val_loss: 0.9041\n",
            "Epoch 36/100\n",
            "\u001b[1m1316/1316\u001b[0m \u001b[32m━━━━━━━━━━━━━━━━━━━━\u001b[0m\u001b[37m\u001b[0m \u001b[1m5s\u001b[0m 4ms/step - accuracy: 0.7549 - loss: 0.7001 - val_accuracy: 0.7043 - val_loss: 0.8946\n",
            "Epoch 37/100\n",
            "\u001b[1m1316/1316\u001b[0m \u001b[32m━━━━━━━━━━━━━━━━━━━━\u001b[0m\u001b[37m\u001b[0m \u001b[1m5s\u001b[0m 4ms/step - accuracy: 0.7526 - loss: 0.6942 - val_accuracy: 0.7054 - val_loss: 0.9081\n",
            "Epoch 38/100\n",
            "\u001b[1m1316/1316\u001b[0m \u001b[32m━━━━━━━━━━━━━━━━━━━━\u001b[0m\u001b[37m\u001b[0m \u001b[1m5s\u001b[0m 4ms/step - accuracy: 0.7520 - loss: 0.6963 - val_accuracy: 0.6999 - val_loss: 0.8927\n",
            "Epoch 39/100\n",
            "\u001b[1m1316/1316\u001b[0m \u001b[32m━━━━━━━━━━━━━━━━━━━━\u001b[0m\u001b[37m\u001b[0m \u001b[1m5s\u001b[0m 4ms/step - accuracy: 0.7606 - loss: 0.6794 - val_accuracy: 0.7092 - val_loss: 0.9099\n",
            "Epoch 40/100\n",
            "\u001b[1m1316/1316\u001b[0m \u001b[32m━━━━━━━━━━━━━━━━━━━━\u001b[0m\u001b[37m\u001b[0m \u001b[1m10s\u001b[0m 4ms/step - accuracy: 0.7568 - loss: 0.6793 - val_accuracy: 0.7128 - val_loss: 0.8831\n",
            "Epoch 41/100\n",
            "\u001b[1m1316/1316\u001b[0m \u001b[32m━━━━━━━━━━━━━━━━━━━━\u001b[0m\u001b[37m\u001b[0m \u001b[1m5s\u001b[0m 4ms/step - accuracy: 0.7628 - loss: 0.6766 - val_accuracy: 0.7143 - val_loss: 0.8845\n",
            "Epoch 42/100\n",
            "\u001b[1m1316/1316\u001b[0m \u001b[32m━━━━━━━━━━━━━━━━━━━━\u001b[0m\u001b[37m\u001b[0m \u001b[1m6s\u001b[0m 4ms/step - accuracy: 0.7615 - loss: 0.6684 - val_accuracy: 0.7109 - val_loss: 0.8912\n",
            "Epoch 43/100\n",
            "\u001b[1m1316/1316\u001b[0m \u001b[32m━━━━━━━━━━━━━━━━━━━━\u001b[0m\u001b[37m\u001b[0m \u001b[1m9s\u001b[0m 4ms/step - accuracy: 0.7615 - loss: 0.6703 - val_accuracy: 0.7083 - val_loss: 0.9028\n",
            "Epoch 44/100\n",
            "\u001b[1m1316/1316\u001b[0m \u001b[32m━━━━━━━━━━━━━━━━━━━━\u001b[0m\u001b[37m\u001b[0m \u001b[1m5s\u001b[0m 4ms/step - accuracy: 0.7620 - loss: 0.6698 - val_accuracy: 0.7115 - val_loss: 0.9199\n",
            "Epoch 45/100\n",
            "\u001b[1m1316/1316\u001b[0m \u001b[32m━━━━━━━━━━━━━━━━━━━━\u001b[0m\u001b[37m\u001b[0m \u001b[1m5s\u001b[0m 4ms/step - accuracy: 0.7675 - loss: 0.6535 - val_accuracy: 0.7074 - val_loss: 0.9269\n",
            "Epoch 46/100\n",
            "\u001b[1m1316/1316\u001b[0m \u001b[32m━━━━━━━━━━━━━━━━━━━━\u001b[0m\u001b[37m\u001b[0m \u001b[1m6s\u001b[0m 4ms/step - accuracy: 0.7660 - loss: 0.6477 - val_accuracy: 0.6978 - val_loss: 0.9323\n",
            "Epoch 47/100\n",
            "\u001b[1m1316/1316\u001b[0m \u001b[32m━━━━━━━━━━━━━━━━━━━━\u001b[0m\u001b[37m\u001b[0m \u001b[1m5s\u001b[0m 4ms/step - accuracy: 0.7647 - loss: 0.6509 - val_accuracy: 0.6994 - val_loss: 0.9282\n",
            "Epoch 48/100\n",
            "\u001b[1m1316/1316\u001b[0m \u001b[32m━━━━━━━━━━━━━━━━━━━━\u001b[0m\u001b[37m\u001b[0m \u001b[1m5s\u001b[0m 4ms/step - accuracy: 0.7709 - loss: 0.6356 - val_accuracy: 0.7155 - val_loss: 0.9022\n",
            "Epoch 49/100\n",
            "\u001b[1m1316/1316\u001b[0m \u001b[32m━━━━━━━━━━━━━━━━━━━━\u001b[0m\u001b[37m\u001b[0m \u001b[1m5s\u001b[0m 4ms/step - accuracy: 0.7726 - loss: 0.6394 - val_accuracy: 0.7046 - val_loss: 0.9266\n",
            "Epoch 50/100\n",
            "\u001b[1m1316/1316\u001b[0m \u001b[32m━━━━━━━━━━━━━━━━━━━━\u001b[0m\u001b[37m\u001b[0m \u001b[1m5s\u001b[0m 4ms/step - accuracy: 0.7742 - loss: 0.6337 - val_accuracy: 0.7031 - val_loss: 0.9519\n",
            "Epoch 51/100\n",
            "\u001b[1m1316/1316\u001b[0m \u001b[32m━━━━━━━━━━━━━━━━━━━━\u001b[0m\u001b[37m\u001b[0m \u001b[1m5s\u001b[0m 4ms/step - accuracy: 0.7690 - loss: 0.6402 - val_accuracy: 0.7096 - val_loss: 0.9278\n",
            "Epoch 52/100\n",
            "\u001b[1m1316/1316\u001b[0m \u001b[32m━━━━━━━━━━━━━━━━━━━━\u001b[0m\u001b[37m\u001b[0m \u001b[1m5s\u001b[0m 4ms/step - accuracy: 0.7732 - loss: 0.6398 - val_accuracy: 0.7069 - val_loss: 0.9354\n",
            "Epoch 53/100\n",
            "\u001b[1m1316/1316\u001b[0m \u001b[32m━━━━━━━━━━━━━━━━━━━━\u001b[0m\u001b[37m\u001b[0m \u001b[1m5s\u001b[0m 4ms/step - accuracy: 0.7729 - loss: 0.6280 - val_accuracy: 0.6997 - val_loss: 0.9561\n",
            "Epoch 54/100\n",
            "\u001b[1m1316/1316\u001b[0m \u001b[32m━━━━━━━━━━━━━━━━━━━━\u001b[0m\u001b[37m\u001b[0m \u001b[1m5s\u001b[0m 4ms/step - accuracy: 0.7743 - loss: 0.6259 - val_accuracy: 0.7098 - val_loss: 0.9328\n",
            "Epoch 55/100\n",
            "\u001b[1m1316/1316\u001b[0m \u001b[32m━━━━━━━━━━━━━━━━━━━━\u001b[0m\u001b[37m\u001b[0m \u001b[1m6s\u001b[0m 4ms/step - accuracy: 0.7768 - loss: 0.6117 - val_accuracy: 0.7091 - val_loss: 0.9349\n",
            "Epoch 56/100\n",
            "\u001b[1m1316/1316\u001b[0m \u001b[32m━━━━━━━━━━━━━━━━━━━━\u001b[0m\u001b[37m\u001b[0m \u001b[1m5s\u001b[0m 4ms/step - accuracy: 0.7771 - loss: 0.6170 - val_accuracy: 0.7118 - val_loss: 0.9420\n",
            "Epoch 57/100\n",
            "\u001b[1m1316/1316\u001b[0m \u001b[32m━━━━━━━━━━━━━━━━━━━━\u001b[0m\u001b[37m\u001b[0m \u001b[1m5s\u001b[0m 4ms/step - accuracy: 0.7790 - loss: 0.6152 - val_accuracy: 0.7073 - val_loss: 0.9509\n",
            "Epoch 58/100\n",
            "\u001b[1m1316/1316\u001b[0m \u001b[32m━━━━━━━━━━━━━━━━━━━━\u001b[0m\u001b[37m\u001b[0m \u001b[1m5s\u001b[0m 4ms/step - accuracy: 0.7833 - loss: 0.6036 - val_accuracy: 0.7117 - val_loss: 0.9353\n",
            "Epoch 59/100\n",
            "\u001b[1m1316/1316\u001b[0m \u001b[32m━━━━━━━━━━━━━━━━━━━━\u001b[0m\u001b[37m\u001b[0m \u001b[1m10s\u001b[0m 4ms/step - accuracy: 0.7843 - loss: 0.6049 - val_accuracy: 0.7133 - val_loss: 0.9424\n",
            "Epoch 60/100\n",
            "\u001b[1m1316/1316\u001b[0m \u001b[32m━━━━━━━━━━━━━━━━━━━━\u001b[0m\u001b[37m\u001b[0m \u001b[1m10s\u001b[0m 4ms/step - accuracy: 0.7786 - loss: 0.6104 - val_accuracy: 0.7059 - val_loss: 0.9652\n",
            "Epoch 61/100\n",
            "\u001b[1m1316/1316\u001b[0m \u001b[32m━━━━━━━━━━━━━━━━━━━━\u001b[0m\u001b[37m\u001b[0m \u001b[1m10s\u001b[0m 4ms/step - accuracy: 0.7851 - loss: 0.5956 - val_accuracy: 0.7100 - val_loss: 0.9714\n",
            "Epoch 62/100\n",
            "\u001b[1m1316/1316\u001b[0m \u001b[32m━━━━━━━━━━━━━━━━━━━━\u001b[0m\u001b[37m\u001b[0m \u001b[1m5s\u001b[0m 4ms/step - accuracy: 0.7862 - loss: 0.5915 - val_accuracy: 0.7027 - val_loss: 0.9770\n",
            "Epoch 63/100\n",
            "\u001b[1m1316/1316\u001b[0m \u001b[32m━━━━━━━━━━━━━━━━━━━━\u001b[0m\u001b[37m\u001b[0m \u001b[1m10s\u001b[0m 4ms/step - accuracy: 0.7880 - loss: 0.5929 - val_accuracy: 0.7091 - val_loss: 0.9660\n",
            "Epoch 64/100\n",
            "\u001b[1m1316/1316\u001b[0m \u001b[32m━━━━━━━━━━━━━━━━━━━━\u001b[0m\u001b[37m\u001b[0m \u001b[1m5s\u001b[0m 4ms/step - accuracy: 0.7904 - loss: 0.5828 - val_accuracy: 0.7056 - val_loss: 1.0090\n",
            "Epoch 65/100\n",
            "\u001b[1m1316/1316\u001b[0m \u001b[32m━━━━━━━━━━━━━━━━━━━━\u001b[0m\u001b[37m\u001b[0m \u001b[1m6s\u001b[0m 4ms/step - accuracy: 0.7884 - loss: 0.5857 - val_accuracy: 0.7145 - val_loss: 0.9501\n",
            "Epoch 66/100\n",
            "\u001b[1m1316/1316\u001b[0m \u001b[32m━━━━━━━━━━━━━━━━━━━━\u001b[0m\u001b[37m\u001b[0m \u001b[1m5s\u001b[0m 4ms/step - accuracy: 0.7932 - loss: 0.5771 - val_accuracy: 0.7019 - val_loss: 1.0186\n",
            "Epoch 67/100\n",
            "\u001b[1m1316/1316\u001b[0m \u001b[32m━━━━━━━━━━━━━━━━━━━━\u001b[0m\u001b[37m\u001b[0m \u001b[1m5s\u001b[0m 4ms/step - accuracy: 0.7885 - loss: 0.5867 - val_accuracy: 0.7093 - val_loss: 1.0001\n",
            "Epoch 68/100\n",
            "\u001b[1m1316/1316\u001b[0m \u001b[32m━━━━━━━━━━━━━━━━━━━━\u001b[0m\u001b[37m\u001b[0m \u001b[1m5s\u001b[0m 4ms/step - accuracy: 0.7881 - loss: 0.5833 - val_accuracy: 0.7091 - val_loss: 0.9972\n",
            "Epoch 69/100\n",
            "\u001b[1m1316/1316\u001b[0m \u001b[32m━━━━━━━━━━━━━━━━━━━━\u001b[0m\u001b[37m\u001b[0m \u001b[1m10s\u001b[0m 4ms/step - accuracy: 0.7915 - loss: 0.5742 - val_accuracy: 0.7100 - val_loss: 0.9886\n",
            "Epoch 70/100\n",
            "\u001b[1m1316/1316\u001b[0m \u001b[32m━━━━━━━━━━━━━━━━━━━━\u001b[0m\u001b[37m\u001b[0m \u001b[1m5s\u001b[0m 4ms/step - accuracy: 0.7915 - loss: 0.5690 - val_accuracy: 0.7113 - val_loss: 1.0164\n",
            "Epoch 71/100\n",
            "\u001b[1m1316/1316\u001b[0m \u001b[32m━━━━━━━━━━━━━━━━━━━━\u001b[0m\u001b[37m\u001b[0m \u001b[1m5s\u001b[0m 4ms/step - accuracy: 0.7865 - loss: 0.5864 - val_accuracy: 0.7109 - val_loss: 0.9924\n",
            "Epoch 72/100\n",
            "\u001b[1m1316/1316\u001b[0m \u001b[32m━━━━━━━━━━━━━━━━━━━━\u001b[0m\u001b[37m\u001b[0m \u001b[1m5s\u001b[0m 4ms/step - accuracy: 0.7950 - loss: 0.5670 - val_accuracy: 0.7112 - val_loss: 0.9726\n",
            "Epoch 73/100\n",
            "\u001b[1m1316/1316\u001b[0m \u001b[32m━━━━━━━━━━━━━━━━━━━━\u001b[0m\u001b[37m\u001b[0m \u001b[1m5s\u001b[0m 4ms/step - accuracy: 0.7936 - loss: 0.5701 - val_accuracy: 0.7091 - val_loss: 0.9961\n",
            "Epoch 74/100\n",
            "\u001b[1m1316/1316\u001b[0m \u001b[32m━━━━━━━━━━━━━━━━━━━━\u001b[0m\u001b[37m\u001b[0m \u001b[1m6s\u001b[0m 4ms/step - accuracy: 0.7942 - loss: 0.5604 - val_accuracy: 0.6994 - val_loss: 1.0717\n",
            "Epoch 75/100\n",
            "\u001b[1m1316/1316\u001b[0m \u001b[32m━━━━━━━━━━━━━━━━━━━━\u001b[0m\u001b[37m\u001b[0m \u001b[1m10s\u001b[0m 4ms/step - accuracy: 0.7944 - loss: 0.5699 - val_accuracy: 0.7106 - val_loss: 1.0125\n",
            "Epoch 76/100\n",
            "\u001b[1m1316/1316\u001b[0m \u001b[32m━━━━━━━━━━━━━━━━━━━━\u001b[0m\u001b[37m\u001b[0m \u001b[1m5s\u001b[0m 4ms/step - accuracy: 0.7943 - loss: 0.5673 - val_accuracy: 0.6969 - val_loss: 1.0881\n",
            "Epoch 77/100\n",
            "\u001b[1m1316/1316\u001b[0m \u001b[32m━━━━━━━━━━━━━━━━━━━━\u001b[0m\u001b[37m\u001b[0m \u001b[1m5s\u001b[0m 4ms/step - accuracy: 0.7951 - loss: 0.5658 - val_accuracy: 0.7123 - val_loss: 1.0214\n",
            "Epoch 78/100\n",
            "\u001b[1m1316/1316\u001b[0m \u001b[32m━━━━━━━━━━━━━━━━━━━━\u001b[0m\u001b[37m\u001b[0m \u001b[1m10s\u001b[0m 4ms/step - accuracy: 0.7956 - loss: 0.5642 - val_accuracy: 0.6932 - val_loss: 1.1039\n",
            "Epoch 79/100\n",
            "\u001b[1m1316/1316\u001b[0m \u001b[32m━━━━━━━━━━━━━━━━━━━━\u001b[0m\u001b[37m\u001b[0m \u001b[1m6s\u001b[0m 4ms/step - accuracy: 0.7959 - loss: 0.5562 - val_accuracy: 0.7059 - val_loss: 0.9990\n",
            "Epoch 80/100\n",
            "\u001b[1m1316/1316\u001b[0m \u001b[32m━━━━━━━━━━━━━━━━━━━━\u001b[0m\u001b[37m\u001b[0m \u001b[1m10s\u001b[0m 4ms/step - accuracy: 0.7994 - loss: 0.5494 - val_accuracy: 0.7099 - val_loss: 1.0557\n",
            "Epoch 81/100\n",
            "\u001b[1m1316/1316\u001b[0m \u001b[32m━━━━━━━━━━━━━━━━━━━━\u001b[0m\u001b[37m\u001b[0m \u001b[1m10s\u001b[0m 4ms/step - accuracy: 0.8023 - loss: 0.5441 - val_accuracy: 0.7052 - val_loss: 1.0638\n",
            "Epoch 82/100\n",
            "\u001b[1m1316/1316\u001b[0m \u001b[32m━━━━━━━━━━━━━━━━━━━━\u001b[0m\u001b[37m\u001b[0m \u001b[1m5s\u001b[0m 4ms/step - accuracy: 0.7985 - loss: 0.5450 - val_accuracy: 0.7123 - val_loss: 1.0518\n",
            "Epoch 83/100\n",
            "\u001b[1m1316/1316\u001b[0m \u001b[32m━━━━━━━━━━━━━━━━━━━━\u001b[0m\u001b[37m\u001b[0m \u001b[1m5s\u001b[0m 4ms/step - accuracy: 0.7994 - loss: 0.5451 - val_accuracy: 0.7052 - val_loss: 1.0665\n",
            "Epoch 84/100\n",
            "\u001b[1m1316/1316\u001b[0m \u001b[32m━━━━━━━━━━━━━━━━━━━━\u001b[0m\u001b[37m\u001b[0m \u001b[1m6s\u001b[0m 4ms/step - accuracy: 0.8034 - loss: 0.5422 - val_accuracy: 0.7073 - val_loss: 1.0584\n",
            "Epoch 85/100\n",
            "\u001b[1m1316/1316\u001b[0m \u001b[32m━━━━━━━━━━━━━━━━━━━━\u001b[0m\u001b[37m\u001b[0m \u001b[1m10s\u001b[0m 4ms/step - accuracy: 0.8018 - loss: 0.5411 - val_accuracy: 0.7015 - val_loss: 1.0931\n",
            "Epoch 86/100\n",
            "\u001b[1m1316/1316\u001b[0m \u001b[32m━━━━━━━━━━━━━━━━━━━━\u001b[0m\u001b[37m\u001b[0m \u001b[1m10s\u001b[0m 4ms/step - accuracy: 0.8015 - loss: 0.5421 - val_accuracy: 0.7112 - val_loss: 1.0663\n",
            "Epoch 87/100\n",
            "\u001b[1m1316/1316\u001b[0m \u001b[32m━━━━━━━━━━━━━━━━━━━━\u001b[0m\u001b[37m\u001b[0m \u001b[1m10s\u001b[0m 4ms/step - accuracy: 0.8017 - loss: 0.5414 - val_accuracy: 0.7090 - val_loss: 1.0265\n",
            "Epoch 88/100\n",
            "\u001b[1m1316/1316\u001b[0m \u001b[32m━━━━━━━━━━━━━━━━━━━━\u001b[0m\u001b[37m\u001b[0m \u001b[1m5s\u001b[0m 4ms/step - accuracy: 0.8094 - loss: 0.5232 - val_accuracy: 0.7031 - val_loss: 1.0928\n",
            "Epoch 89/100\n",
            "\u001b[1m1316/1316\u001b[0m \u001b[32m━━━━━━━━━━━━━━━━━━━━\u001b[0m\u001b[37m\u001b[0m \u001b[1m5s\u001b[0m 4ms/step - accuracy: 0.8033 - loss: 0.5387 - val_accuracy: 0.7089 - val_loss: 1.0383\n",
            "Epoch 90/100\n",
            "\u001b[1m1316/1316\u001b[0m \u001b[32m━━━━━━━━━━━━━━━━━━━━\u001b[0m\u001b[37m\u001b[0m \u001b[1m6s\u001b[0m 4ms/step - accuracy: 0.8052 - loss: 0.5348 - val_accuracy: 0.7055 - val_loss: 1.0774\n",
            "Epoch 91/100\n",
            "\u001b[1m1316/1316\u001b[0m \u001b[32m━━━━━━━━━━━━━━━━━━━━\u001b[0m\u001b[37m\u001b[0m \u001b[1m10s\u001b[0m 4ms/step - accuracy: 0.8059 - loss: 0.5273 - val_accuracy: 0.7101 - val_loss: 1.0957\n",
            "Epoch 92/100\n",
            "\u001b[1m1316/1316\u001b[0m \u001b[32m━━━━━━━━━━━━━━━━━━━━\u001b[0m\u001b[37m\u001b[0m \u001b[1m5s\u001b[0m 4ms/step - accuracy: 0.8025 - loss: 0.5388 - val_accuracy: 0.7119 - val_loss: 1.1076\n",
            "Epoch 93/100\n",
            "\u001b[1m1316/1316\u001b[0m \u001b[32m━━━━━━━━━━━━━━━━━━━━\u001b[0m\u001b[37m\u001b[0m \u001b[1m5s\u001b[0m 4ms/step - accuracy: 0.8059 - loss: 0.5265 - val_accuracy: 0.7032 - val_loss: 1.1060\n",
            "Epoch 94/100\n",
            "\u001b[1m1316/1316\u001b[0m \u001b[32m━━━━━━━━━━━━━━━━━━━━\u001b[0m\u001b[37m\u001b[0m \u001b[1m5s\u001b[0m 4ms/step - accuracy: 0.8056 - loss: 0.5288 - val_accuracy: 0.7036 - val_loss: 1.0995\n",
            "Epoch 95/100\n",
            "\u001b[1m1316/1316\u001b[0m \u001b[32m━━━━━━━━━━━━━━━━━━━━\u001b[0m\u001b[37m\u001b[0m \u001b[1m10s\u001b[0m 4ms/step - accuracy: 0.8083 - loss: 0.5238 - val_accuracy: 0.7061 - val_loss: 1.1190\n",
            "Epoch 96/100\n",
            "\u001b[1m1316/1316\u001b[0m \u001b[32m━━━━━━━━━━━━━━━━━━━━\u001b[0m\u001b[37m\u001b[0m \u001b[1m10s\u001b[0m 4ms/step - accuracy: 0.8053 - loss: 0.5261 - val_accuracy: 0.7070 - val_loss: 1.1300\n",
            "Epoch 97/100\n",
            "\u001b[1m1316/1316\u001b[0m \u001b[32m━━━━━━━━━━━━━━━━━━━━\u001b[0m\u001b[37m\u001b[0m \u001b[1m10s\u001b[0m 4ms/step - accuracy: 0.8053 - loss: 0.5282 - val_accuracy: 0.7089 - val_loss: 1.0736\n",
            "Epoch 98/100\n",
            "\u001b[1m1316/1316\u001b[0m \u001b[32m━━━━━━━━━━━━━━━━━━━━\u001b[0m\u001b[37m\u001b[0m \u001b[1m5s\u001b[0m 4ms/step - accuracy: 0.8120 - loss: 0.5087 - val_accuracy: 0.7055 - val_loss: 1.0884\n",
            "Epoch 99/100\n",
            "\u001b[1m1316/1316\u001b[0m \u001b[32m━━━━━━━━━━━━━━━━━━━━\u001b[0m\u001b[37m\u001b[0m \u001b[1m10s\u001b[0m 4ms/step - accuracy: 0.8107 - loss: 0.5228 - val_accuracy: 0.7045 - val_loss: 1.1195\n",
            "Epoch 100/100\n",
            "\u001b[1m1316/1316\u001b[0m \u001b[32m━━━━━━━━━━━━━━━━━━━━\u001b[0m\u001b[37m\u001b[0m \u001b[1m5s\u001b[0m 4ms/step - accuracy: 0.8106 - loss: 0.5219 - val_accuracy: 0.7047 - val_loss: 1.1518\n"
          ]
        }
      ]
    },
    {
      "cell_type": "code",
      "source": [
        "history.history.keys()"
      ],
      "metadata": {
        "colab": {
          "base_uri": "https://localhost:8080/"
        },
        "id": "4UzP2nNGQrvF",
        "outputId": "e9ac0dba-0b5a-4650-c01b-05ddffef5333"
      },
      "execution_count": null,
      "outputs": [
        {
          "output_type": "execute_result",
          "data": {
            "text/plain": [
              "dict_keys(['accuracy', 'loss', 'val_accuracy', 'val_loss'])"
            ]
          },
          "metadata": {},
          "execution_count": 10
        }
      ]
    },
    {
      "cell_type": "code",
      "source": [
        "plt.plot(history.history['accuracy'])\n",
        "plt.plot(history.history['val_accuracy'])\n",
        "plt.legend(['accuracy','val_accuracy'])\n",
        "plt.figure()"
      ],
      "metadata": {
        "colab": {
          "base_uri": "https://localhost:8080/",
          "height": 467
        },
        "id": "NS7RjKaRU_QK",
        "outputId": "1b0297ff-d0fa-4cd1-f6c3-50ed5d1d2a0b"
      },
      "execution_count": null,
      "outputs": [
        {
          "output_type": "execute_result",
          "data": {
            "text/plain": [
              "<Figure size 640x480 with 0 Axes>"
            ]
          },
          "metadata": {},
          "execution_count": 11
        },
        {
          "output_type": "display_data",
          "data": {
            "text/plain": [
              "<Figure size 640x480 with 1 Axes>"
            ],
            "image/png": "[encoded data removed]"
          },
          "metadata": {}
        },
        {
          "output_type": "display_data",
          "data": {
            "text/plain": [
              "<Figure size 640x480 with 0 Axes>"
            ]
          },
          "metadata": {}
        }
      ]
    },
    {
      "cell_type": "code",
      "source": [
        "plt.plot(history.history['loss'])\n",
        "plt.plot(history.history['val_loss'])\n",
        "plt.legend(['loss','val_loss'])\n",
        "plt.figure()"
      ],
      "metadata": {
        "colab": {
          "base_uri": "https://localhost:8080/",
          "height": 467
        },
        "id": "wTs9QyskVZNZ",
        "outputId": "f475b9d4-f73e-4832-babc-9c41643ad693"
      },
      "execution_count": null,
      "outputs": [
        {
          "output_type": "execute_result",
          "data": {
            "text/plain": [
              "<Figure size 640x480 with 0 Axes>"
            ]
          },
          "metadata": {},
          "execution_count": 12
        },
        {
          "output_type": "display_data",
          "data": {
            "text/plain": [
              "<Figure size 640x480 with 1 Axes>"
            ],
            "image/png": "[encoded data removed]"
          },
          "metadata": {}
        },
        {
          "output_type": "display_data",
          "data": {
            "text/plain": [
              "<Figure size 640x480 with 0 Axes>"
            ]
          },
          "metadata": {}
        }
      ]
    },
    {
      "cell_type": "code",
      "source": [
        "model.evaluate(x_test,y_test)"
      ],
      "metadata": {
        "colab": {
          "base_uri": "https://localhost:8080/"
        },
        "id": "I2-El-SRVwi1",
        "outputId": "8fcadad1-916e-4e03-f228-6ca21f0a7189"
      },
      "execution_count": null,
      "outputs": [
        {
          "output_type": "stream",
          "name": "stdout",
          "text": [
            "\u001b[1m313/313\u001b[0m \u001b[32m━━━━━━━━━━━━━━━━━━━━\u001b[0m\u001b[37m\u001b[0m \u001b[1m2s\u001b[0m 4ms/step - accuracy: 0.7053 - loss: 1.1392\n"
          ]
        },
        {
          "output_type": "execute_result",
          "data": {
            "text/plain": [
              "[1.1517587900161743, 0.7046999931335449]"
            ]
          },
          "metadata": {},
          "execution_count": 13
        }
      ]
    },
    {
      "cell_type": "code",
      "source": [],
      "metadata": {
        "id": "i5ZjRukzV01R"
      },
      "execution_count": null,
      "outputs": []
    }
  ]
}