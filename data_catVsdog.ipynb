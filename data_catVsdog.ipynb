{
 "cells": [
  {
   "cell_type": "code",
   "execution_count": 85,
   "id": "fede6ea1-98ac-44a1-9c88-1d6c7c9d5401",
   "metadata": {},
   "outputs": [],
   "source": [
    "import numpy as np\n",
    "import matplotlib.pyplot as plt\n",
    "import tensorflow\n",
    "import os, shutil\n",
    "from tensorflow import keras\n",
    "from keras.models import Sequential\n",
    "from keras.layers import Conv2D, MaxPooling2D, Flatten, Dropout, Dense"
   ]
  },
  {
   "cell_type": "code",
   "execution_count": 86,
   "id": "67e8fc6a-ceea-47ac-af14-42cd26f5c156",
   "metadata": {},
   "outputs": [],
   "source": [
    "dataset_origin= r'C:\\Users\\Dell\\Desktop\\tehrandata\\ML-notebooks-main\\dataset\\kagglecatsanddogs_3367a\\PetImages'"
   ]
  },
  {
   "cell_type": "code",
   "execution_count": 87,
   "id": "6f66d6b4-117c-4c15-8a9d-46f5f82ebb77",
   "metadata": {},
   "outputs": [],
   "source": [
    "dataset_file= r'C:\\Users\\Dell\\Desktop\\dataset_catvsdog'\n",
    "os.mkdir(dataset_file)"
   ]
  },
  {
   "cell_type": "code",
   "execution_count": 88,
   "id": "7fb6a6e2-39ad-4f60-ab44-94fe7b886a42",
   "metadata": {},
   "outputs": [],
   "source": [
    "train_data= os.path.join(dataset_file,'train')\n",
    "os.mkdir(train_data)"
   ]
  },
  {
   "cell_type": "code",
   "execution_count": 89,
   "id": "98604c5e-32de-4037-9f90-e2f8ce42b4b9",
   "metadata": {},
   "outputs": [],
   "source": [
    "validation_data= os.path.join(dataset_file, 'validation')\n",
    "os.mkdir(validation_data)"
   ]
  },
  {
   "cell_type": "code",
   "execution_count": 90,
   "id": "5203ffc8-2295-4999-8250-7bab61b445e2",
   "metadata": {},
   "outputs": [],
   "source": [
    "test_data= os.path.join(dataset_file, 'test')\n",
    "os.mkdir(test_data)"
   ]
  },
  {
   "cell_type": "code",
   "execution_count": 91,
   "id": "b71798e3-105a-4412-9468-12e880f92552",
   "metadata": {},
   "outputs": [],
   "source": [
    "train_cat= os.path.join(train_data, 'Cat')\n",
    "os.mkdir(train_files)"
   ]
  },
  {
   "cell_type": "code",
   "execution_count": 92,
   "id": "7cdf553b-9bc7-4544-915c-6f11247ffcc0",
   "metadata": {},
   "outputs": [],
   "source": [
    "train_dog= os.path.join(train_data,'Dog')\n",
    "os.mkdir(trin_dog)"
   ]
  },
  {
   "cell_type": "code",
   "execution_count": 93,
   "id": "277952ba-c562-45e1-92a5-303871e6596a",
   "metadata": {},
   "outputs": [],
   "source": [
    "validation_cat= os.path.join(validation_data,'Cat')\n",
    "os.mkdir(validation_cat)"
   ]
  },
  {
   "cell_type": "code",
   "execution_count": 94,
   "id": "9785fb7f-3405-4ef2-a52a-cf1fcf23d5ff",
   "metadata": {},
   "outputs": [],
   "source": [
    "validation_dog= os.path.join(validation_data, 'Dog')\n",
    "os.mkdir(validation_dog)"
   ]
  },
  {
   "cell_type": "code",
   "execution_count": 95,
   "id": "61fd4488-c9ab-4e0d-9002-9a8220e0fb5f",
   "metadata": {},
   "outputs": [],
   "source": [
    "test_cat= os.path.join(test_data,'Cat')\n",
    "os.mkdir(test_cat)\n",
    "test_dog= os.path.join(test_data, 'Dog')\n",
    "os.mkdir(test_dog)"
   ]
  },
  {
   "cell_type": "code",
   "execution_count": 96,
   "id": "191b257b-f950-4fd3-b9f0-b19c2785c5cb",
   "metadata": {},
   "outputs": [
    {
     "name": "stdout",
     "output_type": "stream",
     "text": [
      "Missing:C:\\Users\\Dell\\Desktop\\tehrandata\\ML-notebooks-main\\dataset\\kagglecatsanddogs_3367a\\PetImages\\Cat\\666.jpg\n",
      "Missing:C:\\Users\\Dell\\Desktop\\tehrandata\\ML-notebooks-main\\dataset\\kagglecatsanddogs_3367a\\PetImages\\Cat\\835.jpg\n"
     ]
    }
   ],
   "source": [
    "for i in range(1000):\n",
    "    fname=f'{i}.jpg'\n",
    "    src= os.path.join(dataset_origin,'Cat',fname)\n",
    "    dst= os.path.join(train_cat,fname)\n",
    "    if os.path.exists(src):\n",
    "        shutil.copyfile(src,dst)\n",
    "    else:\n",
    "        print(f'Missing:{src}')"
   ]
  },
  {
   "cell_type": "code",
   "execution_count": 97,
   "id": "3f519fde-3fab-4ef2-b10f-79ea7d8a6bc3",
   "metadata": {},
   "outputs": [],
   "source": [
    "for i in range(1000,1500):\n",
    "    fname=f'{i}.jpg'\n",
    "    src= os.path.join(dataset_origin,'Cat',fname)\n",
    "    dst= os.path.join(validation_cat,fname)\n",
    "    if os.path.exists(src):\n",
    "        shutil.copyfile(src,dst)\n",
    "    else:\n",
    "        print(f'Missing:{src}')"
   ]
  },
  {
   "cell_type": "code",
   "execution_count": 98,
   "id": "9d3d4410-e202-41a9-9ffb-e7576d391953",
   "metadata": {},
   "outputs": [],
   "source": [
    "for i in range(1500,2000):\n",
    "    fname=f'{i}.jpg'\n",
    "    src= os.path.join(dataset_origin,'Cat', fname)\n",
    "    dst= os.path.join(test_cat,fname)\n",
    "    if os.path.exists(src):\n",
    "        shutil.copyfile(src,dst)\n",
    "    else:\n",
    "        print(f'Misssing:{src}')"
   ]
  },
  {
   "cell_type": "code",
   "execution_count": 99,
   "id": "0f977bd4-7f2f-4408-84d7-8d52f46f231b",
   "metadata": {},
   "outputs": [
    {
     "name": "stdout",
     "output_type": "stream",
     "text": [
      "Missing:C:\\Users\\Dell\\Desktop\\tehrandata\\ML-notebooks-main\\dataset\\kagglecatsanddogs_3367a\\PetImages\\Dog\\495.jpg\n",
      "Missing:C:\\Users\\Dell\\Desktop\\tehrandata\\ML-notebooks-main\\dataset\\kagglecatsanddogs_3367a\\PetImages\\Dog\\1043.jpg\n",
      "Missing:C:\\Users\\Dell\\Desktop\\tehrandata\\ML-notebooks-main\\dataset\\kagglecatsanddogs_3367a\\PetImages\\Dog\\1174.jpg\n",
      "Missing:C:\\Users\\Dell\\Desktop\\tehrandata\\ML-notebooks-main\\dataset\\kagglecatsanddogs_3367a\\PetImages\\Dog\\1259.jpg\n"
     ]
    }
   ],
   "source": [
    "for i in range(1000):\n",
    "    fname=f'{i}.jpg'\n",
    "    src= os.path.join(dataset_origin,'Dog',fname)\n",
    "    dst= os.path.join(train_dog,fname)\n",
    "    if os.path.exists(src):\n",
    "        shutil.copyfile(src,dst)\n",
    "    else:\n",
    "        print(f'Missing:{src}')\n",
    "\n",
    "\n",
    "for i in range(1000,1500):\n",
    "    fname=f'{i}.jpg'\n",
    "    src= os.path.join(dataset_origin,'Dog',fname)\n",
    "    dst= os.path.join(validation_dog,fname)\n",
    "    if os.path.exists(src):\n",
    "        shutil.copyfile(src,dst)\n",
    "    else:\n",
    "        print(f'Missing:{src}')\n",
    "\n",
    "\n",
    "for i in range(1500,2000):\n",
    "    fname=f'{i}.jpg'\n",
    "    src= os.path.join(dataset_origin,'Dog',fname)\n",
    "    dst= os.path.join(test_dog,fname)\n",
    "    if os.path.exists(src):\n",
    "        shutil.copyfile(src,dst)\n",
    "    else:\n",
    "        print(f'Missing:{src}')"
   ]
  },
  {
   "cell_type": "code",
   "execution_count": 100,
   "id": "7d462e0d-241f-4859-bc5e-f7872d9357e1",
   "metadata": {},
   "outputs": [],
   "source": [
    "def create_model():\n",
    "    model=Sequential()\n",
    "    model.add(Conv2D(32,(3,3),activation='relu', input_shape=(150,150,3)))\n",
    "    model.add(MaxPooling2D(2,2))\n",
    "    model.add(Conv2D(64,(3,3), activation='relu'))\n",
    "    model.add(MaxPooling2D(2,2))\n",
    "    model.add(Conv2D(52,(3,3), activation='relu'))\n",
    "    model.add(MaxPooling2D(2,2))\n",
    "    model.add(Flatten())\n",
    "    model.add(Dropout(0.5))\n",
    "    model.add(Dense(64, activation='relu'))\n",
    "    model.add(Dense(1, activation='sigmoid'))\n",
    "    return model\n",
    "    "
   ]
  },
  {
   "cell_type": "code",
   "execution_count": 101,
   "id": "c672ba5a-641c-4887-b082-dab32c4e263a",
   "metadata": {},
   "outputs": [],
   "source": [
    "model= create_model()"
   ]
  },
  {
   "cell_type": "code",
   "execution_count": 102,
   "id": "8fa92b2d-1929-4474-876e-f65015baa89f",
   "metadata": {},
   "outputs": [
    {
     "data": {
      "text/html": [
       "<pre style=\"white-space:pre;overflow-x:auto;line-height:normal;font-family:Menlo,'DejaVu Sans Mono',consolas,'Courier New',monospace\"><span style=\"font-weight: bold\">Model: \"sequential_3\"</span>\n",
       "</pre>\n"
      ],
      "text/plain": [
       "\u001b[1mModel: \"sequential_3\"\u001b[0m\n"
      ]
     },
     "metadata": {},
     "output_type": "display_data"
    },
    {
     "data": {
      "text/html": [
       "<pre style=\"white-space:pre;overflow-x:auto;line-height:normal;font-family:Menlo,'DejaVu Sans Mono',consolas,'Courier New',monospace\">┏━━━━━━━━━━━━━━━━━━━━━━━━━━━━━━━━━━━━━━┳━━━━━━━━━━━━━━━━━━━━━━━━━━━━━┳━━━━━━━━━━━━━━━━━┓\n",
       "┃<span style=\"font-weight: bold\"> Layer (type)                         </span>┃<span style=\"font-weight: bold\"> Output Shape                </span>┃<span style=\"font-weight: bold\">         Param # </span>┃\n",
       "┡━━━━━━━━━━━━━━━━━━━━━━━━━━━━━━━━━━━━━━╇━━━━━━━━━━━━━━━━━━━━━━━━━━━━━╇━━━━━━━━━━━━━━━━━┩\n",
       "│ conv2d_7 (<span style=\"color: #0087ff; text-decoration-color: #0087ff\">Conv2D</span>)                    │ (<span style=\"color: #00d7ff; text-decoration-color: #00d7ff\">None</span>, <span style=\"color: #00af00; text-decoration-color: #00af00\">148</span>, <span style=\"color: #00af00; text-decoration-color: #00af00\">148</span>, <span style=\"color: #00af00; text-decoration-color: #00af00\">32</span>)        │             <span style=\"color: #00af00; text-decoration-color: #00af00\">896</span> │\n",
       "├──────────────────────────────────────┼─────────────────────────────┼─────────────────┤\n",
       "│ max_pooling2d_5 (<span style=\"color: #0087ff; text-decoration-color: #0087ff\">MaxPooling2D</span>)       │ (<span style=\"color: #00d7ff; text-decoration-color: #00d7ff\">None</span>, <span style=\"color: #00af00; text-decoration-color: #00af00\">74</span>, <span style=\"color: #00af00; text-decoration-color: #00af00\">74</span>, <span style=\"color: #00af00; text-decoration-color: #00af00\">32</span>)          │               <span style=\"color: #00af00; text-decoration-color: #00af00\">0</span> │\n",
       "├──────────────────────────────────────┼─────────────────────────────┼─────────────────┤\n",
       "│ conv2d_8 (<span style=\"color: #0087ff; text-decoration-color: #0087ff\">Conv2D</span>)                    │ (<span style=\"color: #00d7ff; text-decoration-color: #00d7ff\">None</span>, <span style=\"color: #00af00; text-decoration-color: #00af00\">72</span>, <span style=\"color: #00af00; text-decoration-color: #00af00\">72</span>, <span style=\"color: #00af00; text-decoration-color: #00af00\">64</span>)          │          <span style=\"color: #00af00; text-decoration-color: #00af00\">18,496</span> │\n",
       "├──────────────────────────────────────┼─────────────────────────────┼─────────────────┤\n",
       "│ max_pooling2d_6 (<span style=\"color: #0087ff; text-decoration-color: #0087ff\">MaxPooling2D</span>)       │ (<span style=\"color: #00d7ff; text-decoration-color: #00d7ff\">None</span>, <span style=\"color: #00af00; text-decoration-color: #00af00\">36</span>, <span style=\"color: #00af00; text-decoration-color: #00af00\">36</span>, <span style=\"color: #00af00; text-decoration-color: #00af00\">64</span>)          │               <span style=\"color: #00af00; text-decoration-color: #00af00\">0</span> │\n",
       "├──────────────────────────────────────┼─────────────────────────────┼─────────────────┤\n",
       "│ conv2d_9 (<span style=\"color: #0087ff; text-decoration-color: #0087ff\">Conv2D</span>)                    │ (<span style=\"color: #00d7ff; text-decoration-color: #00d7ff\">None</span>, <span style=\"color: #00af00; text-decoration-color: #00af00\">34</span>, <span style=\"color: #00af00; text-decoration-color: #00af00\">34</span>, <span style=\"color: #00af00; text-decoration-color: #00af00\">52</span>)          │          <span style=\"color: #00af00; text-decoration-color: #00af00\">30,004</span> │\n",
       "├──────────────────────────────────────┼─────────────────────────────┼─────────────────┤\n",
       "│ max_pooling2d_7 (<span style=\"color: #0087ff; text-decoration-color: #0087ff\">MaxPooling2D</span>)       │ (<span style=\"color: #00d7ff; text-decoration-color: #00d7ff\">None</span>, <span style=\"color: #00af00; text-decoration-color: #00af00\">17</span>, <span style=\"color: #00af00; text-decoration-color: #00af00\">17</span>, <span style=\"color: #00af00; text-decoration-color: #00af00\">52</span>)          │               <span style=\"color: #00af00; text-decoration-color: #00af00\">0</span> │\n",
       "├──────────────────────────────────────┼─────────────────────────────┼─────────────────┤\n",
       "│ flatten_1 (<span style=\"color: #0087ff; text-decoration-color: #0087ff\">Flatten</span>)                  │ (<span style=\"color: #00d7ff; text-decoration-color: #00d7ff\">None</span>, <span style=\"color: #00af00; text-decoration-color: #00af00\">15028</span>)               │               <span style=\"color: #00af00; text-decoration-color: #00af00\">0</span> │\n",
       "├──────────────────────────────────────┼─────────────────────────────┼─────────────────┤\n",
       "│ dropout_1 (<span style=\"color: #0087ff; text-decoration-color: #0087ff\">Dropout</span>)                  │ (<span style=\"color: #00d7ff; text-decoration-color: #00d7ff\">None</span>, <span style=\"color: #00af00; text-decoration-color: #00af00\">15028</span>)               │               <span style=\"color: #00af00; text-decoration-color: #00af00\">0</span> │\n",
       "├──────────────────────────────────────┼─────────────────────────────┼─────────────────┤\n",
       "│ dense_2 (<span style=\"color: #0087ff; text-decoration-color: #0087ff\">Dense</span>)                      │ (<span style=\"color: #00d7ff; text-decoration-color: #00d7ff\">None</span>, <span style=\"color: #00af00; text-decoration-color: #00af00\">64</span>)                  │         <span style=\"color: #00af00; text-decoration-color: #00af00\">961,856</span> │\n",
       "├──────────────────────────────────────┼─────────────────────────────┼─────────────────┤\n",
       "│ dense_3 (<span style=\"color: #0087ff; text-decoration-color: #0087ff\">Dense</span>)                      │ (<span style=\"color: #00d7ff; text-decoration-color: #00d7ff\">None</span>, <span style=\"color: #00af00; text-decoration-color: #00af00\">1</span>)                   │              <span style=\"color: #00af00; text-decoration-color: #00af00\">65</span> │\n",
       "└──────────────────────────────────────┴─────────────────────────────┴─────────────────┘\n",
       "</pre>\n"
      ],
      "text/plain": [
       "┏━━━━━━━━━━━━━━━━━━━━━━━━━━━━━━━━━━━━━━┳━━━━━━━━━━━━━━━━━━━━━━━━━━━━━┳━━━━━━━━━━━━━━━━━┓\n",
       "┃\u001b[1m \u001b[0m\u001b[1mLayer (type)                        \u001b[0m\u001b[1m \u001b[0m┃\u001b[1m \u001b[0m\u001b[1mOutput Shape               \u001b[0m\u001b[1m \u001b[0m┃\u001b[1m \u001b[0m\u001b[1m        Param #\u001b[0m\u001b[1m \u001b[0m┃\n",
       "┡━━━━━━━━━━━━━━━━━━━━━━━━━━━━━━━━━━━━━━╇━━━━━━━━━━━━━━━━━━━━━━━━━━━━━╇━━━━━━━━━━━━━━━━━┩\n",
       "│ conv2d_7 (\u001b[38;5;33mConv2D\u001b[0m)                    │ (\u001b[38;5;45mNone\u001b[0m, \u001b[38;5;34m148\u001b[0m, \u001b[38;5;34m148\u001b[0m, \u001b[38;5;34m32\u001b[0m)        │             \u001b[38;5;34m896\u001b[0m │\n",
       "├──────────────────────────────────────┼─────────────────────────────┼─────────────────┤\n",
       "│ max_pooling2d_5 (\u001b[38;5;33mMaxPooling2D\u001b[0m)       │ (\u001b[38;5;45mNone\u001b[0m, \u001b[38;5;34m74\u001b[0m, \u001b[38;5;34m74\u001b[0m, \u001b[38;5;34m32\u001b[0m)          │               \u001b[38;5;34m0\u001b[0m │\n",
       "├──────────────────────────────────────┼─────────────────────────────┼─────────────────┤\n",
       "│ conv2d_8 (\u001b[38;5;33mConv2D\u001b[0m)                    │ (\u001b[38;5;45mNone\u001b[0m, \u001b[38;5;34m72\u001b[0m, \u001b[38;5;34m72\u001b[0m, \u001b[38;5;34m64\u001b[0m)          │          \u001b[38;5;34m18,496\u001b[0m │\n",
       "├──────────────────────────────────────┼─────────────────────────────┼─────────────────┤\n",
       "│ max_pooling2d_6 (\u001b[38;5;33mMaxPooling2D\u001b[0m)       │ (\u001b[38;5;45mNone\u001b[0m, \u001b[38;5;34m36\u001b[0m, \u001b[38;5;34m36\u001b[0m, \u001b[38;5;34m64\u001b[0m)          │               \u001b[38;5;34m0\u001b[0m │\n",
       "├──────────────────────────────────────┼─────────────────────────────┼─────────────────┤\n",
       "│ conv2d_9 (\u001b[38;5;33mConv2D\u001b[0m)                    │ (\u001b[38;5;45mNone\u001b[0m, \u001b[38;5;34m34\u001b[0m, \u001b[38;5;34m34\u001b[0m, \u001b[38;5;34m52\u001b[0m)          │          \u001b[38;5;34m30,004\u001b[0m │\n",
       "├──────────────────────────────────────┼─────────────────────────────┼─────────────────┤\n",
       "│ max_pooling2d_7 (\u001b[38;5;33mMaxPooling2D\u001b[0m)       │ (\u001b[38;5;45mNone\u001b[0m, \u001b[38;5;34m17\u001b[0m, \u001b[38;5;34m17\u001b[0m, \u001b[38;5;34m52\u001b[0m)          │               \u001b[38;5;34m0\u001b[0m │\n",
       "├──────────────────────────────────────┼─────────────────────────────┼─────────────────┤\n",
       "│ flatten_1 (\u001b[38;5;33mFlatten\u001b[0m)                  │ (\u001b[38;5;45mNone\u001b[0m, \u001b[38;5;34m15028\u001b[0m)               │               \u001b[38;5;34m0\u001b[0m │\n",
       "├──────────────────────────────────────┼─────────────────────────────┼─────────────────┤\n",
       "│ dropout_1 (\u001b[38;5;33mDropout\u001b[0m)                  │ (\u001b[38;5;45mNone\u001b[0m, \u001b[38;5;34m15028\u001b[0m)               │               \u001b[38;5;34m0\u001b[0m │\n",
       "├──────────────────────────────────────┼─────────────────────────────┼─────────────────┤\n",
       "│ dense_2 (\u001b[38;5;33mDense\u001b[0m)                      │ (\u001b[38;5;45mNone\u001b[0m, \u001b[38;5;34m64\u001b[0m)                  │         \u001b[38;5;34m961,856\u001b[0m │\n",
       "├──────────────────────────────────────┼─────────────────────────────┼─────────────────┤\n",
       "│ dense_3 (\u001b[38;5;33mDense\u001b[0m)                      │ (\u001b[38;5;45mNone\u001b[0m, \u001b[38;5;34m1\u001b[0m)                   │              \u001b[38;5;34m65\u001b[0m │\n",
       "└──────────────────────────────────────┴─────────────────────────────┴─────────────────┘\n"
      ]
     },
     "metadata": {},
     "output_type": "display_data"
    },
    {
     "data": {
      "text/html": [
       "<pre style=\"white-space:pre;overflow-x:auto;line-height:normal;font-family:Menlo,'DejaVu Sans Mono',consolas,'Courier New',monospace\"><span style=\"font-weight: bold\"> Total params: </span><span style=\"color: #00af00; text-decoration-color: #00af00\">1,011,317</span> (3.86 MB)\n",
       "</pre>\n"
      ],
      "text/plain": [
       "\u001b[1m Total params: \u001b[0m\u001b[38;5;34m1,011,317\u001b[0m (3.86 MB)\n"
      ]
     },
     "metadata": {},
     "output_type": "display_data"
    },
    {
     "data": {
      "text/html": [
       "<pre style=\"white-space:pre;overflow-x:auto;line-height:normal;font-family:Menlo,'DejaVu Sans Mono',consolas,'Courier New',monospace\"><span style=\"font-weight: bold\"> Trainable params: </span><span style=\"color: #00af00; text-decoration-color: #00af00\">1,011,317</span> (3.86 MB)\n",
       "</pre>\n"
      ],
      "text/plain": [
       "\u001b[1m Trainable params: \u001b[0m\u001b[38;5;34m1,011,317\u001b[0m (3.86 MB)\n"
      ]
     },
     "metadata": {},
     "output_type": "display_data"
    },
    {
     "data": {
      "text/html": [
       "<pre style=\"white-space:pre;overflow-x:auto;line-height:normal;font-family:Menlo,'DejaVu Sans Mono',consolas,'Courier New',monospace\"><span style=\"font-weight: bold\"> Non-trainable params: </span><span style=\"color: #00af00; text-decoration-color: #00af00\">0</span> (0.00 B)\n",
       "</pre>\n"
      ],
      "text/plain": [
       "\u001b[1m Non-trainable params: \u001b[0m\u001b[38;5;34m0\u001b[0m (0.00 B)\n"
      ]
     },
     "metadata": {},
     "output_type": "display_data"
    }
   ],
   "source": [
    "model.summary()"
   ]
  },
  {
   "cell_type": "code",
   "execution_count": 103,
   "id": "5442ea81-362d-4589-a622-08cfb6d6b96b",
   "metadata": {},
   "outputs": [],
   "source": [
    "opt= keras.optimizers.RMSprop(learning_rate=0.0001)"
   ]
  },
  {
   "cell_type": "code",
   "execution_count": 104,
   "id": "a9c89758-1e17-4592-bf92-df5b671e7c77",
   "metadata": {},
   "outputs": [],
   "source": [
    "model.compile(loss='binary_crossentropy', optimizer= opt, metrics=['accuracy'])"
   ]
  },
  {
   "cell_type": "code",
   "execution_count": 105,
   "id": "07dd5ecf-626c-44d2-9f14-9716cd3f3376",
   "metadata": {},
   "outputs": [
    {
     "name": "stdout",
     "output_type": "stream",
     "text": [
      "Found 1997 images belonging to 2 classes.\n",
      "Found 997 images belonging to 2 classes.\n"
     ]
    }
   ],
   "source": [
    "from tensorflow.keras.preprocessing.image import ImageDataGenerator\n",
    "train_generate= ImageDataGenerator(rescale=1./255)\n",
    "test_generate= ImageDataGenerator(rescale=1./255)\n",
    "train_data_generate= train_generate.flow_from_directory(train_data, target_size=(150,150), batch_size=20, class_mode='binary')\n",
    "test_data_generate= test_generate.flow_from_directory(validation_data, target_size=(150,150), batch_size=20, class_mode='binary')"
   ]
  },
  {
   "cell_type": "code",
   "execution_count": 106,
   "id": "f7266594-1b9d-44f3-b2fc-584745c9c3fd",
   "metadata": {},
   "outputs": [],
   "source": [
    "data, label=next(iter(train_data_generate))"
   ]
  },
  {
   "cell_type": "code",
   "execution_count": 107,
   "id": "a8d95e2c-dce9-4791-b7be-6bf098732fe4",
   "metadata": {},
   "outputs": [
    {
     "data": {
      "text/plain": [
       "(20, 150, 150, 3)"
      ]
     },
     "execution_count": 107,
     "metadata": {},
     "output_type": "execute_result"
    }
   ],
   "source": [
    "data.shape"
   ]
  },
  {
   "cell_type": "code",
   "execution_count": 108,
   "id": "0849b529-9389-48d8-a5d5-160efee8cae7",
   "metadata": {},
   "outputs": [
    {
     "data": {
      "text/plain": [
       "(20,)"
      ]
     },
     "execution_count": 108,
     "metadata": {},
     "output_type": "execute_result"
    }
   ],
   "source": [
    "label.shape"
   ]
  },
  {
   "cell_type": "code",
   "execution_count": 109,
   "id": "7af8a0d7-052e-44f0-a1f1-87fe655269ce",
   "metadata": {},
   "outputs": [
    {
     "name": "stdout",
     "output_type": "stream",
     "text": [
      "Epoch 1/30\n",
      "\u001b[1m100/100\u001b[0m \u001b[32m━━━━━━━━━━━━━━━━━━━━\u001b[0m\u001b[37m\u001b[0m \u001b[1m38s\u001b[0m 371ms/step - accuracy: 0.4859 - loss: 0.7006 - val_accuracy: 0.5617 - val_loss: 0.6840\n",
      "Epoch 2/30\n",
      "\u001b[1m100/100\u001b[0m \u001b[32m━━━━━━━━━━━━━━━━━━━━\u001b[0m\u001b[37m\u001b[0m \u001b[1m19s\u001b[0m 192ms/step - accuracy: 0.5514 - loss: 0.6810 - val_accuracy: 0.5647 - val_loss: 0.6669\n",
      "Epoch 3/30\n",
      "\u001b[1m100/100\u001b[0m \u001b[32m━━━━━━━━━━━━━━━━━━━━\u001b[0m\u001b[37m\u001b[0m \u001b[1m19s\u001b[0m 191ms/step - accuracy: 0.5882 - loss: 0.6588 - val_accuracy: 0.6128 - val_loss: 0.6461\n",
      "Epoch 4/30\n",
      "\u001b[1m100/100\u001b[0m \u001b[32m━━━━━━━━━━━━━━━━━━━━\u001b[0m\u001b[37m\u001b[0m \u001b[1m19s\u001b[0m 191ms/step - accuracy: 0.6312 - loss: 0.6346 - val_accuracy: 0.6389 - val_loss: 0.6308\n",
      "Epoch 5/30\n",
      "\u001b[1m100/100\u001b[0m \u001b[32m━━━━━━━━━━━━━━━━━━━━\u001b[0m\u001b[37m\u001b[0m \u001b[1m19s\u001b[0m 193ms/step - accuracy: 0.6750 - loss: 0.6068 - val_accuracy: 0.6229 - val_loss: 0.6296\n",
      "Epoch 6/30\n",
      "\u001b[1m100/100\u001b[0m \u001b[32m━━━━━━━━━━━━━━━━━━━━\u001b[0m\u001b[37m\u001b[0m \u001b[1m19s\u001b[0m 193ms/step - accuracy: 0.6980 - loss: 0.5847 - val_accuracy: 0.6710 - val_loss: 0.6031\n",
      "Epoch 7/30\n",
      "\u001b[1m100/100\u001b[0m \u001b[32m━━━━━━━━━━━━━━━━━━━━\u001b[0m\u001b[37m\u001b[0m \u001b[1m19s\u001b[0m 192ms/step - accuracy: 0.7411 - loss: 0.5506 - val_accuracy: 0.6790 - val_loss: 0.5997\n",
      "Epoch 8/30\n",
      "\u001b[1m100/100\u001b[0m \u001b[32m━━━━━━━━━━━━━━━━━━━━\u001b[0m\u001b[37m\u001b[0m \u001b[1m19s\u001b[0m 191ms/step - accuracy: 0.7375 - loss: 0.5301 - val_accuracy: 0.6670 - val_loss: 0.6023\n",
      "Epoch 9/30\n",
      "\u001b[1m100/100\u001b[0m \u001b[32m━━━━━━━━━━━━━━━━━━━━\u001b[0m\u001b[37m\u001b[0m \u001b[1m19s\u001b[0m 191ms/step - accuracy: 0.7534 - loss: 0.5119 - val_accuracy: 0.6820 - val_loss: 0.5931\n",
      "Epoch 10/30\n",
      "\u001b[1m100/100\u001b[0m \u001b[32m━━━━━━━━━━━━━━━━━━━━\u001b[0m\u001b[37m\u001b[0m \u001b[1m19s\u001b[0m 191ms/step - accuracy: 0.7492 - loss: 0.5102 - val_accuracy: 0.6800 - val_loss: 0.5997\n",
      "Epoch 11/30\n",
      "\u001b[1m100/100\u001b[0m \u001b[32m━━━━━━━━━━━━━━━━━━━━\u001b[0m\u001b[37m\u001b[0m \u001b[1m19s\u001b[0m 192ms/step - accuracy: 0.7389 - loss: 0.5175 - val_accuracy: 0.6810 - val_loss: 0.5881\n",
      "Epoch 12/30\n",
      "\u001b[1m100/100\u001b[0m \u001b[32m━━━━━━━━━━━━━━━━━━━━\u001b[0m\u001b[37m\u001b[0m \u001b[1m19s\u001b[0m 191ms/step - accuracy: 0.7701 - loss: 0.4734 - val_accuracy: 0.6800 - val_loss: 0.5934\n",
      "Epoch 13/30\n",
      "\u001b[1m100/100\u001b[0m \u001b[32m━━━━━━━━━━━━━━━━━━━━\u001b[0m\u001b[37m\u001b[0m \u001b[1m19s\u001b[0m 192ms/step - accuracy: 0.7935 - loss: 0.4663 - val_accuracy: 0.6891 - val_loss: 0.5742\n",
      "Epoch 14/30\n",
      "\u001b[1m100/100\u001b[0m \u001b[32m━━━━━━━━━━━━━━━━━━━━\u001b[0m\u001b[37m\u001b[0m \u001b[1m19s\u001b[0m 192ms/step - accuracy: 0.7776 - loss: 0.4597 - val_accuracy: 0.7081 - val_loss: 0.5613\n",
      "Epoch 15/30\n",
      "\u001b[1m100/100\u001b[0m \u001b[32m━━━━━━━━━━━━━━━━━━━━\u001b[0m\u001b[37m\u001b[0m \u001b[1m19s\u001b[0m 192ms/step - accuracy: 0.8035 - loss: 0.4359 - val_accuracy: 0.7172 - val_loss: 0.5643\n",
      "Epoch 16/30\n",
      "\u001b[1m100/100\u001b[0m \u001b[32m━━━━━━━━━━━━━━━━━━━━\u001b[0m\u001b[37m\u001b[0m \u001b[1m19s\u001b[0m 193ms/step - accuracy: 0.8112 - loss: 0.4373 - val_accuracy: 0.6991 - val_loss: 0.5617\n",
      "Epoch 17/30\n",
      "\u001b[1m100/100\u001b[0m \u001b[32m━━━━━━━━━━━━━━━━━━━━\u001b[0m\u001b[37m\u001b[0m \u001b[1m19s\u001b[0m 192ms/step - accuracy: 0.8037 - loss: 0.4173 - val_accuracy: 0.7182 - val_loss: 0.5606\n",
      "Epoch 18/30\n",
      "\u001b[1m100/100\u001b[0m \u001b[32m━━━━━━━━━━━━━━━━━━━━\u001b[0m\u001b[37m\u001b[0m \u001b[1m19s\u001b[0m 191ms/step - accuracy: 0.8134 - loss: 0.4140 - val_accuracy: 0.6931 - val_loss: 0.5977\n",
      "Epoch 19/30\n",
      "\u001b[1m100/100\u001b[0m \u001b[32m━━━━━━━━━━━━━━━━━━━━\u001b[0m\u001b[37m\u001b[0m \u001b[1m19s\u001b[0m 193ms/step - accuracy: 0.8236 - loss: 0.4028 - val_accuracy: 0.7312 - val_loss: 0.5508\n",
      "Epoch 20/30\n",
      "\u001b[1m100/100\u001b[0m \u001b[32m━━━━━━━━━━━━━━━━━━━━\u001b[0m\u001b[37m\u001b[0m \u001b[1m19s\u001b[0m 194ms/step - accuracy: 0.8297 - loss: 0.3765 - val_accuracy: 0.6660 - val_loss: 0.6802\n",
      "Epoch 21/30\n",
      "\u001b[1m100/100\u001b[0m \u001b[32m━━━━━━━━━━━━━━━━━━━━\u001b[0m\u001b[37m\u001b[0m \u001b[1m19s\u001b[0m 192ms/step - accuracy: 0.8365 - loss: 0.3650 - val_accuracy: 0.6891 - val_loss: 0.5926\n",
      "Epoch 22/30\n",
      "\u001b[1m100/100\u001b[0m \u001b[32m━━━━━━━━━━━━━━━━━━━━\u001b[0m\u001b[37m\u001b[0m \u001b[1m19s\u001b[0m 194ms/step - accuracy: 0.8533 - loss: 0.3532 - val_accuracy: 0.7151 - val_loss: 0.6090\n",
      "Epoch 23/30\n",
      "\u001b[1m100/100\u001b[0m \u001b[32m━━━━━━━━━━━━━━━━━━━━\u001b[0m\u001b[37m\u001b[0m \u001b[1m19s\u001b[0m 193ms/step - accuracy: 0.8531 - loss: 0.3456 - val_accuracy: 0.7292 - val_loss: 0.5684\n",
      "Epoch 24/30\n",
      "\u001b[1m100/100\u001b[0m \u001b[32m━━━━━━━━━━━━━━━━━━━━\u001b[0m\u001b[37m\u001b[0m \u001b[1m19s\u001b[0m 192ms/step - accuracy: 0.8694 - loss: 0.3199 - val_accuracy: 0.7312 - val_loss: 0.5790\n",
      "Epoch 25/30\n",
      "\u001b[1m100/100\u001b[0m \u001b[32m━━━━━━━━━━━━━━━━━━━━\u001b[0m\u001b[37m\u001b[0m \u001b[1m19s\u001b[0m 192ms/step - accuracy: 0.8563 - loss: 0.3249 - val_accuracy: 0.7252 - val_loss: 0.5735\n",
      "Epoch 26/30\n",
      "\u001b[1m100/100\u001b[0m \u001b[32m━━━━━━━━━━━━━━━━━━━━\u001b[0m\u001b[37m\u001b[0m \u001b[1m19s\u001b[0m 191ms/step - accuracy: 0.8706 - loss: 0.2990 - val_accuracy: 0.7272 - val_loss: 0.6028\n",
      "Epoch 27/30\n",
      "\u001b[1m100/100\u001b[0m \u001b[32m━━━━━━━━━━━━━━━━━━━━\u001b[0m\u001b[37m\u001b[0m \u001b[1m19s\u001b[0m 191ms/step - accuracy: 0.8905 - loss: 0.2803 - val_accuracy: 0.7272 - val_loss: 0.5638\n",
      "Epoch 28/30\n",
      "\u001b[1m100/100\u001b[0m \u001b[32m━━━━━━━━━━━━━━━━━━━━\u001b[0m\u001b[37m\u001b[0m \u001b[1m19s\u001b[0m 191ms/step - accuracy: 0.8657 - loss: 0.2959 - val_accuracy: 0.7252 - val_loss: 0.5807\n",
      "Epoch 29/30\n",
      "\u001b[1m100/100\u001b[0m \u001b[32m━━━━━━━━━━━━━━━━━━━━\u001b[0m\u001b[37m\u001b[0m \u001b[1m19s\u001b[0m 193ms/step - accuracy: 0.8671 - loss: 0.3104 - val_accuracy: 0.7332 - val_loss: 0.5724\n",
      "Epoch 30/30\n",
      "\u001b[1m100/100\u001b[0m \u001b[32m━━━━━━━━━━━━━━━━━━━━\u001b[0m\u001b[37m\u001b[0m \u001b[1m19s\u001b[0m 191ms/step - accuracy: 0.8870 - loss: 0.2767 - val_accuracy: 0.7352 - val_loss: 0.6136\n"
     ]
    }
   ],
   "source": [
    "history=model.fit(train_data_generate, validation_data= test_data_generate, epochs=30)"
   ]
  },
  {
   "cell_type": "code",
   "execution_count": 110,
   "id": "3e8c5482-e407-492e-9492-5cd3566c32f5",
   "metadata": {},
   "outputs": [
    {
     "data": {
      "text/plain": [
       "dict_keys(['accuracy', 'loss', 'val_accuracy', 'val_loss'])"
      ]
     },
     "execution_count": 110,
     "metadata": {},
     "output_type": "execute_result"
    }
   ],
   "source": [
    "history.history.keys()"
   ]
  },
  {
   "cell_type": "code",
   "execution_count": 111,
   "id": "82c6c161-f7b3-4d2b-b651-237d8df7dade",
   "metadata": {},
   "outputs": [
    {
     "data": {
      "text/plain": [
       "<Figure size 640x480 with 0 Axes>"
      ]
     },
     "execution_count": 111,
     "metadata": {},
     "output_type": "execute_result"
    },
    {
     "data": {
      "image/png": "[encoded data removed]",
      "text/plain": [
       "<Figure size 640x480 with 1 Axes>"
      ]
     },
     "metadata": {},
     "output_type": "display_data"
    },
    {
     "data": {
      "text/plain": [
       "<Figure size 640x480 with 0 Axes>"
      ]
     },
     "metadata": {},
     "output_type": "display_data"
    }
   ],
   "source": [
    "plt.plot(history.history['accuracy'])\n",
    "plt.plot(history.history['val_accuracy'])\n",
    "plt.legend(['accuracy','val_accuracy'])\n",
    "plt.figure()"
   ]
  },
  {
   "cell_type": "code",
   "execution_count": 112,
   "id": "691c99dd-7500-46c8-b91f-4047081c4684",
   "metadata": {},
   "outputs": [
    {
     "data": {
      "text/plain": [
       "<Figure size 640x480 with 0 Axes>"
      ]
     },
     "execution_count": 112,
     "metadata": {},
     "output_type": "execute_result"
    },
    {
     "data": {
      "image/png": "[encoded data removed]",
      "text/plain": [
       "<Figure size 640x480 with 1 Axes>"
      ]
     },
     "metadata": {},
     "output_type": "display_data"
    },
    {
     "data": {
      "text/plain": [
       "<Figure size 640x480 with 0 Axes>"
      ]
     },
     "metadata": {},
     "output_type": "display_data"
    }
   ],
   "source": [
    "plt.plot(history.history['loss'])\n",
    "plt.plot(history.history['val_loss'])\n",
    "plt.legend(['loss','val_loss'])\n",
    "plt.figure()"
   ]
  },
  {
   "cell_type": "code",
   "execution_count": null,
   "id": "061beef0-5e3d-4b87-99a3-652dc6e58476",
   "metadata": {},
   "outputs": [],
   "source": []
  }
 ],
 "metadata": {
  "kernelspec": {
   "display_name": "Python 3 (ipykernel)",
   "language": "python",
   "name": "python3"
  },
  "language_info": {
   "codemirror_mode": {
    "name": "ipython",
    "version": 3
   },
   "file_extension": ".py",
   "mimetype": "text/x-python",
   "name": "python",
   "nbconvert_exporter": "python",
   "pygments_lexer": "ipython3",
   "version": "3.12.7"
  }
 },
 "nbformat": 4,
 "nbformat_minor": 5
}
